{
 "cells": [
  {
   "cell_type": "code",
   "execution_count": 1,
   "metadata": {},
   "outputs": [
    {
     "name": "stderr",
     "output_type": "stream",
     "text": [
      "[nltk_data] Downloading package punkt to\n",
      "[nltk_data]     /Users/chaosarium/nltk_data...\n",
      "[nltk_data]   Package punkt is already up-to-date!\n",
      "[nltk_data] Downloading package stopwords to\n",
      "[nltk_data]     /Users/chaosarium/nltk_data...\n",
      "[nltk_data]   Package stopwords is already up-to-date!\n",
      "/Users/chaosarium/anaconda3/envs/llama_hw/lib/python3.11/site-packages/tqdm/auto.py:21: TqdmWarning: IProgress not found. Please update jupyter and ipywidgets. See https://ipywidgets.readthedocs.io/en/stable/user_install.html\n",
      "  from .autonotebook import tqdm as notebook_tqdm\n",
      "2024-03-08 20:36:37 INFO: Checking for updates to resources.json in case models have been updated.  Note: this behavior can be turned off with download_method=None or download_method=DownloadMethod.REUSE_RESOURCES\n",
      "Downloading https://raw.githubusercontent.com/stanfordnlp/stanza-resources/main/resources_1.8.0.json: 373kB [00:00, 46.0MB/s]                    \n",
      "2024-03-08 20:36:37 INFO: Downloaded file to /Users/chaosarium/stanza_resources/resources.json\n",
      "2024-03-08 20:36:37 WARNING: Language en package default expects mwt, which has been added\n",
      "2024-03-08 20:36:37 INFO: Loading these models for language: en (English):\n",
      "=========================================\n",
      "| Processor | Package                   |\n",
      "-----------------------------------------\n",
      "| tokenize  | combined                  |\n",
      "| mwt       | combined                  |\n",
      "| ner       | ontonotes-ww-multi_charlm |\n",
      "=========================================\n",
      "\n",
      "2024-03-08 20:36:37 INFO: Using device: cpu\n",
      "2024-03-08 20:36:37 INFO: Loading: tokenize\n",
      "2024-03-08 20:36:38 INFO: Loading: mwt\n",
      "2024-03-08 20:36:38 INFO: Loading: ner\n",
      "2024-03-08 20:36:38 INFO: Done loading processors!\n"
     ]
    }
   ],
   "source": [
    "import json\n",
    "from lib.generate import *\n",
    "generator = Llama13BGenerator()\n",
    "from time import sleep\n",
    "from tqdm import tqdm\n",
    "import nltk\n",
    "from nltk.corpus import stopwords\n",
    "from nltk.tokenize import word_tokenize\n",
    "\n",
    "nltk.download(\"punkt\")\n",
    "nltk.download('stopwords')\n",
    "stops = stopwords.words(\"english\")\n",
    "\n",
    "import stanza\n",
    "nlp = stanza.Pipeline(lang='en', processors='tokenize,ner')"
   ]
  },
  {
   "cell_type": "code",
   "execution_count": 6,
   "metadata": {},
   "outputs": [],
   "source": [
    "# file io is by copilot\n",
    "def augment_test_set(name) -> None:\n",
    "    count = 0\n",
    "    with open(f'../annotations/{name}.json') as file:\n",
    "        data = json.load(file)\n",
    "        \n",
    "    for i in tqdm(range(len(data))):\n",
    "    # for i in range(len(data)):\n",
    "        Q = data[i][\"Q\"]\n",
    "        Q_aug = Q\n",
    "        \n",
    "        query_tok = [word.lower() for word in word_tokenize(Q) if word.lower() not in stops]\n",
    "        ents = nlp(Q).ents\n",
    "        do_augment = False\n",
    "        if len(ents) < 1:\n",
    "            do_augment = True\n",
    "        \n",
    "        for ent in ents:\n",
    "            if ent.type in ['WORK_OF_ART', 'PRODUCT']:\n",
    "                do_augment = False\n",
    "        \n",
    "        \n",
    "        if do_augment:\n",
    "            # print(f\"augmenting: {Q}\")\n",
    "            # print(ents)\n",
    "            Q_aug, Q_aug_prompt = generator.augment_query(Q)\n",
    "            if 'Search Result:' in Q_aug:\n",
    "                Q_aug = ''.join(Q_aug.split('Search Result:')[1:])\n",
    "            Q_aug = Q_aug.strip()\n",
    "            sleep(0.5)\n",
    "            count += 1\n",
    "            data[i][\"Q_aug\"] = Q + '\\n' + Q_aug\n",
    "            data[i][\"Q_aug_prompt\"] = Q_aug_prompt\n",
    "        else:\n",
    "            data[i][\"Q_aug\"] = Q\n",
    "            data[i][\"Q_aug_prompt\"] = None\n",
    "\n",
    "    print(f\"augmented {count} for {name}\")\n",
    "    \n",
    "    with open(f'../annotations/{name}_aug.json', 'w') as file:\n",
    "        json.dump(data, file, indent=2)"
   ]
  },
  {
   "cell_type": "code",
   "execution_count": 7,
   "metadata": {},
   "outputs": [
    {
     "name": "stderr",
     "output_type": "stream",
     "text": [
      "100%|██████████| 4/4 [00:03<00:00,  1.28it/s]\n"
     ]
    },
    {
     "name": "stdout",
     "output_type": "stream",
     "text": [
      "augmented 1 for toyQAs-on-papers\n"
     ]
    },
    {
     "name": "stderr",
     "output_type": "stream",
     "text": [
      "100%|██████████| 30/30 [00:22<00:00,  1.35it/s]\n"
     ]
    },
    {
     "name": "stdout",
     "output_type": "stream",
     "text": [
      "augmented 7 for leon-annotated\n"
     ]
    },
    {
     "name": "stderr",
     "output_type": "stream",
     "text": [
      "100%|██████████| 30/30 [00:04<00:00,  6.59it/s]\n"
     ]
    },
    {
     "name": "stdout",
     "output_type": "stream",
     "text": [
      "augmented 0 for karina-annotated\n"
     ]
    },
    {
     "name": "stderr",
     "output_type": "stream",
     "text": [
      "100%|██████████| 300/300 [03:54<00:00,  1.28it/s]\n"
     ]
    },
    {
     "name": "stdout",
     "output_type": "stream",
     "text": [
      "augmented 74 for papersQAs\n"
     ]
    },
    {
     "name": "stderr",
     "output_type": "stream",
     "text": [
      "100%|██████████| 300/300 [01:26<00:00,  3.46it/s]\n"
     ]
    },
    {
     "name": "stdout",
     "output_type": "stream",
     "text": [
      "augmented 22 for coursesQAs\n"
     ]
    },
    {
     "name": "stderr",
     "output_type": "stream",
     "text": [
      "100%|██████████| 300/300 [03:05<00:00,  1.62it/s]"
     ]
    },
    {
     "name": "stdout",
     "output_type": "stream",
     "text": [
      "augmented 56 for directoryQAs\n"
     ]
    },
    {
     "name": "stderr",
     "output_type": "stream",
     "text": [
      "\n"
     ]
    }
   ],
   "source": [
    "augment_test_set('toyQAs-on-papers')\n",
    "augment_test_set('leon-annotated')\n",
    "augment_test_set('karina-annotated')\n",
    "augment_test_set('papersQAs')\n",
    "augment_test_set('coursesQAs')\n",
    "augment_test_set('directoryQAs')"
   ]
  }
 ],
 "metadata": {
  "kernelspec": {
   "display_name": "llama_hw",
   "language": "python",
   "name": "python3"
  },
  "language_info": {
   "codemirror_mode": {
    "name": "ipython",
    "version": 3
   },
   "file_extension": ".py",
   "mimetype": "text/x-python",
   "name": "python",
   "nbconvert_exporter": "python",
   "pygments_lexer": "ipython3",
   "version": "3.11.7"
  }
 },
 "nbformat": 4,
 "nbformat_minor": 2
}
