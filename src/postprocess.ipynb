{
 "cells": [
  {
   "cell_type": "code",
   "execution_count": 1,
   "metadata": {},
   "outputs": [],
   "source": [
    "from lib.generate import *\n",
    "generator = Llama70BGeneratorNotChat()"
   ]
  },
  {
   "cell_type": "code",
   "execution_count": 2,
   "metadata": {},
   "outputs": [],
   "source": [
    "def mk_answer_extract_prompt(question: str, long_answer: str):\n",
    "    return f\"\"\"### Instruction ###\n",
    "\n",
    "Concise answers is paramount to your work your work in a team of highly efficient question answerers. Below are examples on how one can extract information from a bad, verbose answer into a concise answer that directly answers the question. If the answer is already concise, \"Better Answer\" is the same as the original \"Possibly Bad Answer\".\n",
    "\n",
    "Question: Who taught the course 51-425 Design Center: Beginning Book Arts Lab in the semester Fall 2023?\n",
    "Possibly Bad Answer: In the Fall 2023 semester, Joseph Dicey taught the course \"51-425 Design Center: Beginning Book Arts Lab\".\n",
    "Better Answer: Joseph Dicey\n",
    "\n",
    "-----\n",
    "\n",
    "Question: Which model did Fatemehsadat Mireshghallah find in their paper to have an AUC of 0.81?\n",
    "Possibly Bad Answer: Fatemehsadat Mireshghallah's paper finds that the OPT-125M model has an AUC of 0.81 in detecting ChatGPT generations, whereas a larger model from the GPT family, GPTJ-6B, has AUC of 0.45.\n",
    "Better Answer: OPT-125M\n",
    "\n",
    "-----\n",
    "\n",
    "Question: Who is sponsoring the event Carnival Activities Tent at CMU's Spring Carnival 2024?\n",
    "Possibly Bad Answer: Carnival Activities Tent is sponsored by the Carnival Committee and the CMU Alumni Association. No registration required is required.\n",
    "Better Answer: The Spring Carnival Committee and the CMU Alumni Association\n",
    "\n",
    "-----\n",
    "\n",
    "Question: What are Graham Neubig's research interests?\n",
    "Possibly Bad Answer: Associate Professor is an Associate Professor at Carnegie Mellon University. He has a wide range of research interests, including: Machine Translation, Natural Language Processing, Spoken Language Processing, Machine Learning.\n",
    "Better Answer: Machine Translation, Natural Language Processing, Spoken Language Processing, Machine Learning\n",
    "\n",
    "-----\n",
    "\n",
    "Question: What are David Mortensen's research interests?\n",
    "Possibly Bad Answer: Natural Language Processing and Computational Linguistics, Corpus Annotation and Resources\n",
    "Better Answer: Natural Language Processing and Computational Linguistics, Corpus Annotation and Resources\n",
    "\n",
    "-----\n",
    "\n",
    "Question: Where was the paper \"Towards Improving Harmonic Sensitivity and Prediction Stability for Singing Melody Extraction\" published?\n",
    "Possibly Bad Answer: The publication venue for the paper \"Towards Improving Harmonic Sensitivity and Prediction Stability for Singing Melody Extraction\" is International Society for Music Information Retrieval Conference.\n",
    "Better Answer: The International Society for Music Information Retrieval Conference\n",
    "\n",
    "-----\n",
    "\n",
    "Question: Where was the paper \"Methods for Measuring, Updating, and Visualizing Factual Beliefs in Language Models\" published?\n",
    "Possibly Bad Answer: Conference of the European Chapter of the Association for Computational Linguistics\n",
    "Better Answer: Conference of the European Chapter of the Association for Computational Linguistics\n",
    "\n",
    "-----\n",
    "\n",
    "Question: On what date does the Spring Carnival 2024 Event \"SCS Breakfast & Buggy\" take place?\n",
    "Possibly Bad Answer: The School of Computer Science (SCS) will host a breakfast buffet for all SCS alumni and livestream the buggy races at \"SCS Breakfast & Buggy\". The event is set to take place on April 13, 2024 at 9:00 AM-12:00 PM ET.\n",
    "Better Answer: April 13, 2024\n",
    "\n",
    "-----\n",
    "\n",
    "Question: Which room does 02-261 Quantitative Cell and Molecular Biology Laboratory take place in the Fall 2023 semester?\n",
    "Possibly Bad Answer: In the Fall 2023 semester it's in HOA 107\n",
    "Better Answer: HOA 107\n",
    "\n",
    "-----\n",
    "\n",
    "Question: {question}\n",
    "Possibly Bad Answer: {long_answer}\n",
    "Better Answer: \"\"\""
   ]
  },
  {
   "cell_type": "code",
   "execution_count": 3,
   "metadata": {},
   "outputs": [],
   "source": [
    "def extract_concise_answer(s: str):\n",
    "    if '-----' in s:\n",
    "        return s.split('-----')[0].strip()\n",
    "\n",
    "    if '\\n' in s:\n",
    "        maybe = s.split('\\n')[0].strip()\n",
    "        return maybe\n",
    "    \n",
    "    return s"
   ]
  },
  {
   "cell_type": "code",
   "execution_count": 4,
   "metadata": {},
   "outputs": [
    {
     "data": {
      "text/plain": [
       "'5 years'"
      ]
     },
     "execution_count": 4,
     "metadata": {},
     "output_type": "execute_result"
    }
   ],
   "source": [
    "out = generator(mk_answer_extract_prompt(\n",
    "    'For which year or years is full funding (i.e. tuition and stipend) guaranteed for a Ph.D. student at LTI?',\n",
    "    'Full funding is guaranteed for the first year for all LTI Ph.D. students, and is normally continued for at least 5 years, with possibility of further continuance, subject to continuing satisfactory progress and availability of funding.'\n",
    "), max_tokens=64, temperature=0.6, top_k=1)\n",
    "extract_concise_answer(out)"
   ]
  },
  {
   "cell_type": "code",
   "execution_count": 5,
   "metadata": {},
   "outputs": [
    {
     "data": {
      "text/plain": [
       "'2023'"
      ]
     },
     "execution_count": 5,
     "metadata": {},
     "output_type": "execute_result"
    }
   ],
   "source": [
    "out = generator(mk_answer_extract_prompt(\n",
    "    'What year was the paper called Quantitative Evaluation of Dust and Black Carbon Column Concentration in the MERRA-2 Reanalysis Dataset Using Satellite-Based Component Retrievals published?',\n",
    "    'The paper was published in the year 2023.'\n",
    "), max_tokens=64, temperature=0.6, top_k=1)\n",
    "extract_concise_answer(out)"
   ]
  },
  {
   "cell_type": "code",
   "execution_count": 6,
   "metadata": {},
   "outputs": [
    {
     "data": {
      "text/plain": [
       "'2023 Conference of the European Chapter of the Association for Computational Linguistics'"
      ]
     },
     "execution_count": 6,
     "metadata": {},
     "output_type": "execute_result"
    }
   ],
   "source": [
    "out = generator(mk_answer_extract_prompt(\n",
    "    'At what venue was the paper called GameQA: Gamified Mobile App Platform for Building Multiple-Domain Question-Answering Datasets published?',\n",
    "    \"The paper called 'GameQA: Gamified Mobile App Platform for Building Multiple-Domain Question-Answering Datasets' was published at the Conference of the European Chapter of the Association for Computational Linguistics.\"\n",
    "), max_tokens=64, temperature=0.6, top_k=1)\n",
    "extract_concise_answer(out)"
   ]
  },
  {
   "cell_type": "markdown",
   "metadata": {},
   "source": [
    "## On existing outputs"
   ]
  },
  {
   "cell_type": "code",
   "execution_count": 8,
   "metadata": {},
   "outputs": [],
   "source": [
    "from pprint import pprint\n",
    "import pickle\n",
    "from lib.evaluation import *\n",
    "import time\n",
    "from tqdm import tqdm\n",
    "import os"
   ]
  },
  {
   "cell_type": "code",
   "execution_count": 19,
   "metadata": {},
   "outputs": [],
   "source": [
    "evaluation_identifier = \"txt-ragatouille-noop-llama70b-human-hypotheticalFalse-k10\""
   ]
  },
  {
   "cell_type": "code",
   "execution_count": 21,
   "metadata": {},
   "outputs": [
    {
     "name": "stderr",
     "output_type": "stream",
     "text": [
      "100%|██████████| 60/60 [04:03<00:00,  4.05s/it]\n"
     ]
    }
   ],
   "source": [
    "with open(f'../experiment/evaluation/(example) eval-{evaluation_identifier}/res_acc.pkl', 'rb') as file:\n",
    "    unextracted_res_acc = pickle.load(file)\n",
    "\n",
    "res_acc = []\n",
    "for entry in tqdm(unextracted_res_acc):\n",
    "    Q = entry['Q']\n",
    "    A = entry['A']\n",
    "    A_hat = entry['A_hat']\n",
    "    \n",
    "    time.sleep(1.2)\n",
    "    out = generator(mk_answer_extract_prompt(\n",
    "        Q,\n",
    "        A_hat\n",
    "    ), max_tokens=64, temperature=0.6, top_k=1)\n",
    "    \n",
    "    A_hat_extracted = extract_concise_answer(out)   \n",
    "    if len(A_hat) <= len(A_hat_extracted): # revert if extracted answer is longer\n",
    "        A_hat_extracted = A_hat\n",
    "    \n",
    "    em = eval_exact_match(A_hat_extracted, [A])\n",
    "    f1 = eval_f1(A_hat_extracted, [A])\n",
    "    recall = eval_recall(A_hat_extracted, [A])\n",
    "    precision = eval_precision(A_hat_extracted, [A])\n",
    "    \n",
    "    entry['em'] = em\n",
    "    entry['f1'] = f1\n",
    "    entry['recall'] = recall\n",
    "    entry['precision'] = precision\n",
    "    entry['A_hat'] = A_hat_extracted\n",
    "        \n",
    "    res_acc.append(entry)"
   ]
  },
  {
   "cell_type": "code",
   "execution_count": 22,
   "metadata": {},
   "outputs": [
    {
     "name": "stdout",
     "output_type": "stream",
     "text": [
      "done evaluating!\n",
      "results dumped to ../experiment-alt/(example) extract-eval-txt-ragatouille-noop-llama70b-human-hypotheticalFalse-k10\n",
      "   Mean Exact Match  Mean F1 Score  Mean Recall  Mean Precision\n",
      "0          0.683333       0.809365     0.830976        0.810505\n"
     ]
    }
   ],
   "source": [
    "# summary stats and file IO by copilot\n",
    "output_dir = f'../experiment-alt/(example) extract-eval-{evaluation_identifier}'\n",
    "if not os.path.exists(output_dir):\n",
    "    os.makedirs(output_dir)\n",
    "\n",
    "# 1 > save predictions\n",
    "with open(f'{output_dir}/res_acc.pkl', 'wb') as f:\n",
    "    pickle.dump(res_acc, f)\n",
    "\n",
    "df = pd.DataFrame(res_acc)\n",
    "\n",
    "df.to_csv(f'{output_dir}/predictions.csv')\n",
    "df.to_json(f'{output_dir}/predictions.json', indent=2, orient='records')\n",
    "df.to_html(f'{output_dir}/predictions.html')\n",
    "df.style.background_gradient(subset=['em', 'f1', 'recall', 'precision'], cmap='RdYlGn', vmin=0, vmax=1).to_html(f'{output_dir}/predictions_s.html')\n",
    "df[[\"em\", \"f1\", \"recall\", \"precision\", 'Q', \"A_hat\", 'A']].style.background_gradient(subset=['em', 'f1', 'recall', 'precision'], cmap='RdYlGn', vmin=0, vmax=1).to_html(f'{output_dir}/predictions_s_cleaner.html')\n",
    "\n",
    "# 2 > make mean calculations\n",
    "summary_stats = df[['em', 'f1', 'recall', 'precision']].mean().to_frame().T.rename(columns={'em': 'Mean Exact Match', 'f1': 'Mean F1 Score', 'recall': 'Mean Recall', 'precision': 'Mean Precision'})\n",
    "summary_stats.to_csv(f'{output_dir}/stats.csv', index=False)\n",
    "summary_stats.to_json(f'{output_dir}/stats.json', indent=2, orient='records')\n",
    "\n",
    "# 3 > bye\n",
    "print(\"done evaluating!\")\n",
    "print(\"results dumped to\", output_dir)\n",
    "print(summary_stats)\n"
   ]
  },
  {
   "cell_type": "markdown",
   "metadata": {},
   "source": [
    "## before and after stats"
   ]
  },
  {
   "cell_type": "code",
   "execution_count": 27,
   "metadata": {},
   "outputs": [
    {
     "name": "stdout",
     "output_type": "stream",
     "text": [
      "done evaluating!\n",
      "   Mean Exact Match  Mean F1 Score  Mean Recall  Mean Precision\n",
      "0          0.083333        0.33248     0.876347         0.24146\n"
     ]
    }
   ],
   "source": [
    "df = pd.DataFrame(unextracted_res_acc)\n",
    "\n",
    "# 2 > make mean calculations\n",
    "summary_stats = df[['em', 'f1', 'recall', 'precision']].mean().to_frame().T.rename(columns={'em': 'Mean Exact Match', 'f1': 'Mean F1 Score', 'recall': 'Mean Recall', 'precision': 'Mean Precision'})\n",
    "\n",
    "# 3 > bye\n",
    "print(\"done evaluating!\")\n",
    "print(summary_stats)\n"
   ]
  },
  {
   "cell_type": "code",
   "execution_count": 28,
   "metadata": {},
   "outputs": [
    {
     "name": "stdout",
     "output_type": "stream",
     "text": [
      "done evaluating!\n",
      "   Mean Exact Match  Mean F1 Score  Mean Recall  Mean Precision\n",
      "0          0.683333       0.809365     0.830976        0.810505\n"
     ]
    }
   ],
   "source": [
    "df = pd.DataFrame(res_acc)\n",
    "\n",
    "# 2 > make mean calculations\n",
    "summary_stats = df[['em', 'f1', 'recall', 'precision']].mean().to_frame().T.rename(columns={'em': 'Mean Exact Match', 'f1': 'Mean F1 Score', 'recall': 'Mean Recall', 'precision': 'Mean Precision'})\n",
    "\n",
    "# 3 > bye\n",
    "print(\"done evaluating!\")\n",
    "print(summary_stats)\n"
   ]
  },
  {
   "cell_type": "markdown",
   "metadata": {},
   "source": [
    "## before and after generations"
   ]
  },
  {
   "cell_type": "code",
   "execution_count": 30,
   "metadata": {},
   "outputs": [
    {
     "name": "stdout",
     "output_type": "stream",
     "text": [
      "\n",
      "Yonatan Bisk's professional title is Assistant Professor.\n",
      "Assistant Professor\n",
      "\n",
      "\n",
      "Ralf Brown's professional title is Principal Systems Scientist.\n",
      "Principal Systems Scientist\n",
      "\n",
      "\n",
      "Richard Stern's office is located in B24 Baker-Porter Hall.\n",
      "B24 Baker-Porter Hall\n",
      "\n",
      "\n",
      "Malihe Alikhani works at the University of Pittsburgh.\n",
      "The University of Pittsburgh\n",
      "\n",
      "\n",
      "Taylor Berg-Kirkpatrick works at the University of California, San Diego.\n",
      "The University of California, San Diego\n",
      "\n",
      "\n",
      "The first author of the paper entitled \"WebArena: A Realistic Web Environment for Building Autonomous Agents,\" published in 2023, is Shuyan Zhou.\n",
      "Shuyan Zhou\n",
      "\n",
      "\n",
      "The first author of the paper entitled \"A Pretrainer's Guide to Training Data: Measuring the Effects of Data Age, Domain Coverage, Quality, & Toxicity\" is S. Longpre.\n",
      "S. Longpre\n",
      "\n",
      "\n",
      "The first author of the paper entitled \"Active Retrieval Augmented Generation\" is Zhengbao Jiang.\n",
      "Zhengbao Jiang\n",
      "\n",
      "\n",
      "The CMU faculty member who is an author on the paper entitled \"Clever Hans or Neural Theory of Mind? Stress Testing Social Reasoning in Large Language Models\" is Graham Neubig.\n",
      "Graham Neubig\n",
      "\n",
      "* J. Sinapov\n",
      "J. Sinapov\n",
      "\n",
      "\n",
      "Bhiksha Ramakrishnan's research areas are:\n",
      "\n",
      "* Machine Learning\n",
      "* Multimodal Computing and Interaction\n",
      "* Speech Processing\n",
      "* Spoken Interfaces and Dialogue Processing\n",
      "* Privacy\n",
      "\n",
      "These are listed in alphabetical order, separated by commas.\n",
      "Machine Learning, Multimodal Computing and Interaction, Privacy, Speech Processing, Spoken Interfaces and Dialogue Processing\n",
      "\n",
      "\n",
      "Maarten Sap's research areas are:\n",
      "\n",
      "* Computational Social Science\n",
      "* Conversational AI\n",
      "* Discourse and Pragmatics\n",
      "* Fairness and Ethics in Language Technology\n",
      "* Intelligent Agents\n",
      "* Machine Learning\n",
      "* Natural Language Processing\n",
      "* Spoken Language Processing\n",
      "\n",
      "Note: These research areas are mentioned in the provided context documents, and are relevant to Maarten Sap's work in the Language\n",
      "Computational Social Science, Conversational AI, Discourse and Pragmatics, Fairness and Ethics in Language Technology, Intelligent Agents, Machine Learning, Natural Language Processing, Spoken Language Processing\n",
      "\n",
      "\n",
      "The first author of the paper called \"WebUI: A Dataset for Enhancing Visual UI Understanding with Web Semantics\" is Jason Wu.\n",
      "Jason Wu\n",
      "\n",
      "\n",
      "The first author of the paper called \"OPT-R: Exploring the Role of Explanations in Finetuning and Prompting for Reasoning Skills of Large Language Models\" is Badr AlKhamissi.\n",
      "Badr AlKhamissi\n",
      "\n",
      "\n",
      "The first author of the paper called \"Unlimiformer: Long-Range Transformers with Unlimited Length Input\" is Amanda Bertsch.\n",
      "Amanda Bertsch\n",
      "\n",
      "\n",
      "Lorraine Levin taught the course \"Human Language for Artificial Intelligence\" in fall 2023.\n",
      "Lorraine Levin\n",
      "\n",
      "Emma Strubell, Maarten Sap.\n",
      "Emma Strubell, Maarten Sap\n",
      "\n",
      "\n",
      "The instructor for the course \"Foundations of Computational Data Science\" in fall 2023 was Carolyn Rose.\n",
      "Carolyn Rose\n",
      "\n",
      "\n",
      "Chenyan Xiong, Daphne Ippolito\n",
      "Chenyan Xiong, Daphne Ippolito\n",
      "\n",
      "\n",
      "The instructor for the course \"Subword Modeling\" in spring 2024 is David Mortensen.\n",
      "David Mortensen\n",
      "\n",
      "\n",
      "Jamie Callan is teaching the course \"Search Engines\" in spring 2024.\n",
      "Jamie Callan\n",
      "\n",
      "\n",
      "Shinji Watanabe is teaching the course \"Speech Technology for Conversational AI\" in spring 2024.\n",
      "Shinji Watanabe\n",
      "\n",
      "\n",
      "The instructors teaching the course \"Neural Code Generation\" in spring 2024 are Daniel Fried and Sean Welleck. Therefore, the answer to the question is \"Daniel Fried, Sean Welleck\".\n",
      "Daniel Fried, Sean Welleck\n",
      "\n",
      "Eric Nyberg, Teruko Mitamura\n",
      "Eric Nyberg, Teruko Mitamura\n",
      "\n",
      "\n",
      "The instructor for the course \"Quantitative Evaluation of Language Technologies\" in spring 2024 is Fernando Diaz.\n",
      "Fernando Diaz\n",
      "\n",
      "\n",
      "Annette Han, Carolyn Rose\n",
      "Annette Han, Carolyn Rose\n",
      "\n",
      "\n",
      "The instructor for the course \"Data Science Capstone Research\" in summer 2023 was Eric Nyberg.\n",
      "Eric Nyberg\n",
      "\n",
      "\n",
      "The instructor for the \"PhD Internship\" in summer 2023 was Jamie Callan.\n",
      "Jamie Callan\n",
      "\n",
      "\n",
      "Teruko Mitamura taught the course \"MIIS Directed Study\" in fall 2023.\n",
      "Teruko Mitamura\n",
      "\n",
      "\n",
      "The instructor for \"Speech Recognition and Understanding\" in fall 2023 was Shinji Watanabe.\n",
      "Shinji Watanabe\n",
      "\n",
      "\n",
      "A bushbar is a structure attached to a buggy that a person pushes to propel the buggy forward. It is also known as a pushbar.\n",
      "A bushbar is a structure attached to a buggy that a person pushes to propel the buggy forward. It is also known as a pushbar.\n",
      "\n",
      "Carnegie Institute of Technology merged with Mellon Institute in 1967.\n",
      "1967\n",
      "\n",
      "\n",
      "Andrew Carnegie, the founder of Carnegie Mellon University, was born in Scotland in 1835.\n",
      "Scotland\n",
      "\n",
      "\n",
      "The CMU Kiltie Band was created in 1908 with a group of just seven students dedicated to supporting Carnegie Tech football.\n",
      "1908\n",
      "\n",
      "\n",
      "According to the provided documents, Carnegie Mellon University (CMU) has over 2000 students, staff, and faculty.\n",
      "2000\n",
      "\n",
      "\n",
      "Andrew Carnegie said, \"My Heart is in the Work\" on November 15, 1900.\n",
      "1900\n",
      "\n",
      "\n",
      "Herbert Simon and Allen Newell received the Turing Award in 1975 for their work in artificial intelligence. Specifically, they were recognized for their development of the first artificial intelligence program, Logic Theorist, which could solve logic puzzles in the same way that a human might solve them. This work laid the foundation for the field of artificial intelligence and paved the way for subsequent advancements in the field.\n",
      "Artificial Intelligence\n",
      "\n",
      "\n",
      "The Center for Machine Translation at CMU became the Language Technologies Institute.\n",
      "The Language Technologies Institute\n",
      "\n",
      "\n",
      "Hans Berliner (CS’74) developed the first computer chess program, Hitech, which achieved grandmaster status.\n",
      "Hans Berliner\n",
      "\n",
      "\n",
      "The popular language learning app created at CMU is Duolingo. Duolingo was developed by professor Luis von Ahn (CS 2003, 2005) and had 10 million downloads in 12 months. It was named Apple’s 2013 app of the year.\n",
      "Duolingo\n",
      "\n",
      "\n",
      "The program director of LTI's Undergraduate Language Technologies Concentration is Carolyn Rosé.\n",
      "Carolyn Rosé\n",
      "\n",
      "\n",
      "The Master of Computational Data Science (MCDS) at LTI focuses on engineering and deploying large-scale information systems.\n",
      "The Master of Computational Data Science (MCDS)\n",
      "\n",
      "\n",
      "The program that LTI offers that partners with universities in Portugal is the dual-degree Ph.D. in Language and Information Technologies in cooperation with Universidade Nova de Lisboa, Faculdade de Ciências e Tecnologia – FCTUNL (Ph.D. in Computer Science) and Universidade de Coimbra, Faculdade de Ciências e Tecnologia – FCTUC (Ph.D. in Information\n",
      "\n",
      "\n",
      "\n",
      "The minimum number of units of coursework needed to complete a Master of Science in Artificial Intelligence and Innovation is 36 units.\n",
      "36 units\n",
      "\n",
      "\n",
      "The Academic Program Manager of the Master of Computational Data Science Program is Jennifer M. Lucas.\n",
      "Jennifer M. Lucas\n",
      "\n",
      "\n",
      "The minimum letter grade needed for a course to count towards a Master of Language Technologies degree is B (3.0). Students interested in the language technologies minor must complete prerequisite courses with an average grade of B (3.0) or better before applying to the program.\n",
      "3.0\n",
      "\n",
      "\n",
      "GHC 5404.\n",
      "GHC 5404.\n",
      "\n",
      "\n",
      "Full funding (tuition and stipend) is guaranteed for the first year for all LTI Ph.D. students. Additionally, support is normally continued for at least 5 years, with the possibility of further continuance, subject to continuing satisfactory progress and availability of funding.\n",
      "5 years\n",
      "\n",
      "\n",
      "The Summer requirement for Year 1 in the Master of Language Technologies program is to complete a directed research project, which can be done through courses such as 11-910 Directed Research, 11-920 Independent Study: Breadth, or 11-925 Independent Study: Area. These courses provide hands-on experience and an in-depth study of a topic in the same area as a chosen elective.\n",
      "11-910 Directed Research, 11-920 Independent Study: Breadth, or 11-925 Independent Study: Area\n",
      "\n",
      "\n",
      "The application period for Fall 2024 will open on September 6, 2023.\n",
      "September 6, 2023\n",
      "\n",
      "\n",
      "The Mixed Reality: A Virtual Reality Escape Room Experience event at the 2024 CMU Carnival can be attended at the following times:\n",
      "\n",
      "* April 11, 2024: 8:00 AM-9:00 AM ET\n",
      "* April 12, 2024: 2:00 PM-11:00 PM ET\n",
      "\n",
      "\n",
      "8:00 AM-9:00 AM ET, 2:00 PM-11:00 PM ET\n",
      "\n",
      "\n",
      "Yes, registration is required for the AB Tech Alumni & Student Mixer event at the 2024 CMU Carnival. According to the event description, registration is required for this event, and walk-ins are welcome as space permits. There is no event fee for this event, and it is open to the AB Tech community and their guests.\n",
      "Yes\n",
      "\n",
      "\n",
      "The cost of seeing Scotch'n'Soda Theatre Carnival Show: The Little Mermaid for alumni and guests at Carnival is $10.\n",
      "10\n",
      "\n",
      "\n",
      "You can expect to see Omar Khan at the School of Architecture Pavilion Dedication & Alumni Open House event at the 2024 Carnival. The event takes place on April 13, 2024, from 1:00 PM-2:30 PM ET.\n",
      "School of Architecture Pavilion Dedication & Alumni Open House\n",
      "\n",
      "\n",
      "The other major event held in conjunction with Spring Carnival 2024 is Reunion Weekend, which is celebrated on campus from April 11-14, 2024, welcoming back undergraduate classes ending in 4s and 9s, the Class of 2023, and all Half Century Tartans (Classes of 1973 and prior).\n",
      "Reunion Weekend\n",
      "\n",
      "\n",
      "The main commencement ceremony will take place on Sunday, May 12, 2024.\n",
      "Sunday, May 12, 2024\n",
      "\n",
      "\n",
      "The Phi Beta Kappa Initiation Ceremony is located in the McConomy Auditorium, Cohon University Center.\n",
      "McConomy Auditorium, Cohon University Center\n",
      "\n",
      "\n",
      "The President’s Doctoral Candidate Reception will take place on Saturday, May 11, 2024, from 4–6 p.m. in the Tepper Building Atrium.\n",
      "Saturday, May 11, 2024, from 4–6 p.m.\n",
      "\n",
      "\n",
      "Gesling Stadium will open to guests at 8 a.m. on Sunday, May 12.\n",
      "8 a.m.\n",
      "\n",
      "\n",
      "Build Week for Spring Carnival 2024 ends on April 14, 2024.\n",
      "April 14, 2024\n",
      "\n"
     ]
    }
   ],
   "source": [
    "for entry1, entry2 in zip(unextracted_res_acc, res_acc):\n",
    "    print(entry1['A_hat'])\n",
    "    print(entry2['A_hat'])\n",
    "    print()"
   ]
  },
  {
   "cell_type": "code",
   "execution_count": null,
   "metadata": {},
   "outputs": [],
   "source": []
  }
 ],
 "metadata": {
  "kernelspec": {
   "display_name": "llama_hw",
   "language": "python",
   "name": "python3"
  },
  "language_info": {
   "codemirror_mode": {
    "name": "ipython",
    "version": 3
   },
   "file_extension": ".py",
   "mimetype": "text/x-python",
   "name": "python",
   "nbconvert_exporter": "python",
   "pygments_lexer": "ipython3",
   "version": "3.10.8"
  }
 },
 "nbformat": 4,
 "nbformat_minor": 2
}
